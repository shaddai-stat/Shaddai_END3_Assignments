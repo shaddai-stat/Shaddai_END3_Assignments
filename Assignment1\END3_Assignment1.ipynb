{
  "nbformat": 4,
  "nbformat_minor": 0,
  "metadata": {
    "colab": {
      "name": "END2.0 Session 1.ipynb",
      "provenance": [],
      "include_colab_link": true
    },
    "kernelspec": {
      "name": "python3",
      "display_name": "Python 3"
    },
    "language_info": {
      "name": "python"
    }
  },
  "cells": [
    {
      "cell_type": "markdown",
      "metadata": {
        "id": "view-in-github",
        "colab_type": "text"
      },
      "source": [
        "<a href=\"https://colab.research.google.com/github/shaddai-stat/Shaddai_END3_Assignments/blob/main/Assignment1%5CEND3_Assignment1.ipynb\" target=\"_parent\"><img src=\"https://colab.research.google.com/assets/colab-badge.svg\" alt=\"Open In Colab\"/></a>"
      ]
    },
    {
      "cell_type": "code",
      "metadata": {
        "colab": {
          "base_uri": "https://localhost:8080/"
        },
        "id": "GC_6PeobwwkH",
        "outputId": "c5934fdb-8612-419e-9f9c-cfd16f233127"
      },
      "source": [
        "import torch\n",
        "from torch.autograd import Variable\n",
        "import torch.nn as nn\n",
        "import torch.nn.functional as F\n",
        "import torch.optim as optim\n",
        "import numpy as np\n",
        "import pandas as pd\n",
        "import matplotlib.pyplot as plt\n",
        "%matplotlib inline\n",
        "torch.manual_seed(2)"
      ],
      "execution_count": 12,
      "outputs": [
        {
          "output_type": "execute_result",
          "data": {
            "text/plain": [
              "<torch._C.Generator at 0x7fbc69c8ba90>"
            ]
          },
          "metadata": {},
          "execution_count": 12
        }
      ]
    },
    {
      "cell_type": "code",
      "metadata": {
        "id": "bL64bMTkw2GP"
      },
      "source": [
        "X = torch.Tensor([[0,0], [0,1], [1,0], [1,1]])\n",
        "Y = torch.Tensor([0, 1, 1, 0]).view(-1,1)"
      ],
      "execution_count": 3,
      "outputs": []
    },
    {
      "cell_type": "code",
      "metadata": {
        "id": "aC82kEAIw3Wf"
      },
      "source": [
        "class XOR(nn.Module):\n",
        "    def __init__(self, input_dim = 2, output_dim=1):\n",
        "        super(XOR, self).__init__()\n",
        "        self.lin1 = nn.Linear(input_dim, 5)\n",
        "        self.lin2 = nn.Linear(5, 4)\n",
        "        \n",
        "        self.lin3 = nn.Linear(4, output_dim)\n",
        "    \n",
        "    def forward(self, x):\n",
        "        x = self.lin1(x)\n",
        "        x = F.tanh(x)\n",
        "        x = self.lin2(x)\n",
        "        x = F.tanh(x)\n",
        "        x = self.lin3(x)\n",
        "\n",
        "        return x"
      ],
      "execution_count": 15,
      "outputs": []
    },
    {
      "cell_type": "code",
      "metadata": {
        "colab": {
          "base_uri": "https://localhost:8080/"
        },
        "id": "8gQIQExYw65K",
        "outputId": "bb23db9c-fd51-48aa-dfa1-8cb22b7dcd96"
      },
      "source": [
        "model = XOR()\n",
        "print(model)\n",
        "from torchsummary import summary\n",
        "summary(model, (2,2))"
      ],
      "execution_count": 16,
      "outputs": [
        {
          "output_type": "stream",
          "name": "stdout",
          "text": [
            "XOR(\n",
            "  (lin1): Linear(in_features=2, out_features=5, bias=True)\n",
            "  (lin2): Linear(in_features=5, out_features=4, bias=True)\n",
            "  (lin3): Linear(in_features=4, out_features=1, bias=True)\n",
            ")\n",
            "----------------------------------------------------------------\n",
            "        Layer (type)               Output Shape         Param #\n",
            "================================================================\n",
            "            Linear-1                 [-1, 2, 5]              15\n",
            "            Linear-2                 [-1, 2, 4]              24\n",
            "            Linear-3                 [-1, 2, 1]               5\n",
            "================================================================\n",
            "Total params: 44\n",
            "Trainable params: 44\n",
            "Non-trainable params: 0\n",
            "----------------------------------------------------------------\n",
            "Input size (MB): 0.00\n",
            "Forward/backward pass size (MB): 0.00\n",
            "Params size (MB): 0.00\n",
            "Estimated Total Size (MB): 0.00\n",
            "----------------------------------------------------------------\n"
          ]
        },
        {
          "output_type": "stream",
          "name": "stderr",
          "text": [
            "/usr/local/lib/python3.7/dist-packages/torch/nn/functional.py:1794: UserWarning: nn.functional.tanh is deprecated. Use torch.tanh instead.\n",
            "  warnings.warn(\"nn.functional.tanh is deprecated. Use torch.tanh instead.\")\n"
          ]
        }
      ]
    },
    {
      "cell_type": "code",
      "metadata": {
        "id": "yeotEq19x6XF"
      },
      "source": [
        "def weights_init(model):\n",
        "    for m in model.modules():\n",
        "        if isinstance(m, nn.Linear):\n",
        "            # initialize the weight tensor, here we use a normal distribution\n",
        "            m.weight.data.normal_(0, 1)\n",
        "\n",
        "weights_init(model)"
      ],
      "execution_count": 17,
      "outputs": []
    },
    {
      "cell_type": "code",
      "metadata": {
        "id": "WrD_sNzLx78e"
      },
      "source": [
        "loss_func = nn.L1Loss()"
      ],
      "execution_count": 18,
      "outputs": []
    },
    {
      "cell_type": "code",
      "metadata": {
        "id": "-zvbrMd2x_lA"
      },
      "source": [
        "optimizer = optim.SGD(model.parameters(), lr=0.02, momentum=0.9)\n"
      ],
      "execution_count": 8,
      "outputs": []
    },
    {
      "cell_type": "code",
      "metadata": {
        "colab": {
          "base_uri": "https://localhost:8080/"
        },
        "id": "q7tWa3D7yA5X",
        "outputId": "d0d7f781-307e-4112-c9c6-a0bb6e29b069"
      },
      "source": [
        "epochs = 2001\n",
        "steps = X.size(0)\n",
        "for i in range(epochs):\n",
        "    for j in range(steps):\n",
        "        data_point = np.random.randint(X.size(0))\n",
        "        x_var = Variable(X[data_point], requires_grad=False)\n",
        "        y_var = Variable(Y[data_point], requires_grad=False)\n",
        "        \n",
        "        optimizer.zero_grad()\n",
        "        y_hat = model(x_var)\n",
        "        loss = loss_func.forward(y_hat, y_var)\n",
        "        loss.backward()\n",
        "        optimizer.step()\n",
        "        \n",
        "    if i % 50 == 0:\n",
        "        print( \"Epoch: {0}, Loss: {1}, \".format(i, loss.data.numpy()))"
      ],
      "execution_count": 10,
      "outputs": [
        {
          "output_type": "stream",
          "name": "stderr",
          "text": [
            "/usr/local/lib/python3.7/dist-packages/torch/nn/functional.py:1794: UserWarning: nn.functional.tanh is deprecated. Use torch.tanh instead.\n",
            "  warnings.warn(\"nn.functional.tanh is deprecated. Use torch.tanh instead.\")\n"
          ]
        },
        {
          "output_type": "stream",
          "name": "stdout",
          "text": [
            "Epoch: 0, Loss: 0.12072381377220154, \n",
            "Epoch: 50, Loss: 0.002415478229522705, \n",
            "Epoch: 100, Loss: 0.4134218394756317, \n",
            "Epoch: 150, Loss: 0.13239921629428864, \n",
            "Epoch: 200, Loss: 0.0027464628219604492, \n",
            "Epoch: 250, Loss: 0.0019116401672363281, \n",
            "Epoch: 300, Loss: 0.9991942048072815, \n",
            "Epoch: 350, Loss: 0.0021524429321289062, \n",
            "Epoch: 400, Loss: 0.999219536781311, \n",
            "Epoch: 450, Loss: 0.9991557002067566, \n",
            "Epoch: 500, Loss: 0.0016421675682067871, \n",
            "Epoch: 550, Loss: 0.35571151971817017, \n",
            "Epoch: 600, Loss: 0.04071534797549248, \n",
            "Epoch: 650, Loss: 0.0015156269073486328, \n",
            "Epoch: 700, Loss: 0.12549293041229248, \n",
            "Epoch: 750, Loss: 0.22584183514118195, \n",
            "Epoch: 800, Loss: 0.99951171875, \n",
            "Epoch: 850, Loss: 0.047168392688035965, \n",
            "Epoch: 900, Loss: 0.10555862635374069, \n",
            "Epoch: 950, Loss: 0.12706521153450012, \n",
            "Epoch: 1000, Loss: 0.9995917677879333, \n",
            "Epoch: 1050, Loss: 0.9996063709259033, \n",
            "Epoch: 1100, Loss: 0.9996122717857361, \n",
            "Epoch: 1150, Loss: 0.0008573532104492188, \n",
            "Epoch: 1200, Loss: 0.0008978843688964844, \n",
            "Epoch: 1250, Loss: 0.07808776944875717, \n",
            "Epoch: 1300, Loss: 0.9996752738952637, \n",
            "Epoch: 1350, Loss: 0.0007548332214355469, \n",
            "Epoch: 1400, Loss: 0.0007805228233337402, \n",
            "Epoch: 1450, Loss: 0.042291197925806046, \n",
            "Epoch: 1500, Loss: 0.0007522702217102051, \n",
            "Epoch: 1550, Loss: 0.0006532669067382812, \n",
            "Epoch: 1600, Loss: 0.0007587671279907227, \n",
            "Epoch: 1650, Loss: 0.0006538629531860352, \n",
            "Epoch: 1700, Loss: 0.9997351169586182, \n",
            "Epoch: 1750, Loss: 0.0006721019744873047, \n",
            "Epoch: 1800, Loss: 0.9997431039810181, \n",
            "Epoch: 1850, Loss: 0.007305492181330919, \n",
            "Epoch: 1900, Loss: 0.0005747675895690918, \n",
            "Epoch: 1950, Loss: 0.0005316734313964844, \n",
            "Epoch: 2000, Loss: 0.11889013648033142, \n"
          ]
        }
      ]
    },
    {
      "cell_type": "code",
      "metadata": {
        "id": "QV0dIdveyCRi",
        "colab": {
          "base_uri": "https://localhost:8080/"
        },
        "outputId": "f28320b0-af04-4231-f782-408e6b39e5e1"
      },
      "source": [
        "lst=[]\n",
        "for i in range(0,len(X)):\n",
        "    lst.append(model(X[i]))\n",
        "df=pd.concat([pd.DataFrame(X).rename(columns={0: 'x1', 1: 'x2'}),pd.DataFrame(lst).rename(columns={0: 'Y'})],axis=1)"
      ],
      "execution_count": 13,
      "outputs": [
        {
          "output_type": "stream",
          "name": "stderr",
          "text": [
            "/usr/local/lib/python3.7/dist-packages/torch/nn/functional.py:1794: UserWarning: nn.functional.tanh is deprecated. Use torch.tanh instead.\n",
            "  warnings.warn(\"nn.functional.tanh is deprecated. Use torch.tanh instead.\")\n"
          ]
        }
      ]
    },
    {
      "cell_type": "code",
      "metadata": {
        "colab": {
          "base_uri": "https://localhost:8080/",
          "height": 172
        },
        "id": "mxIBQo98u-iT",
        "outputId": "982637ab-6c3c-4310-d772-0d224467fcb6"
      },
      "source": [
        "df"
      ],
      "execution_count": 14,
      "outputs": [
        {
          "output_type": "execute_result",
          "data": {
            "text/html": [
              "<div>\n",
              "<style scoped>\n",
              "    .dataframe tbody tr th:only-of-type {\n",
              "        vertical-align: middle;\n",
              "    }\n",
              "\n",
              "    .dataframe tbody tr th {\n",
              "        vertical-align: top;\n",
              "    }\n",
              "\n",
              "    .dataframe thead th {\n",
              "        text-align: right;\n",
              "    }\n",
              "</style>\n",
              "<table border=\"1\" class=\"dataframe\">\n",
              "  <thead>\n",
              "    <tr style=\"text-align: right;\">\n",
              "      <th></th>\n",
              "      <th>x1</th>\n",
              "      <th>x2</th>\n",
              "      <th>Y</th>\n",
              "    </tr>\n",
              "  </thead>\n",
              "  <tbody>\n",
              "    <tr>\n",
              "      <th>0</th>\n",
              "      <td>tensor(0.)</td>\n",
              "      <td>tensor(0.)</td>\n",
              "      <td>tensor(0.0257, grad_fn=&lt;UnbindBackward&gt;)</td>\n",
              "    </tr>\n",
              "    <tr>\n",
              "      <th>1</th>\n",
              "      <td>tensor(0.)</td>\n",
              "      <td>tensor(1.)</td>\n",
              "      <td>tensor(0.9994, grad_fn=&lt;UnbindBackward&gt;)</td>\n",
              "    </tr>\n",
              "    <tr>\n",
              "      <th>2</th>\n",
              "      <td>tensor(1.)</td>\n",
              "      <td>tensor(0.)</td>\n",
              "      <td>tensor(0.9995, grad_fn=&lt;UnbindBackward&gt;)</td>\n",
              "    </tr>\n",
              "    <tr>\n",
              "      <th>3</th>\n",
              "      <td>tensor(1.)</td>\n",
              "      <td>tensor(1.)</td>\n",
              "      <td>tensor(0.9998, grad_fn=&lt;UnbindBackward&gt;)</td>\n",
              "    </tr>\n",
              "  </tbody>\n",
              "</table>\n",
              "</div>"
            ],
            "text/plain": [
              "           x1          x2                                         Y\n",
              "0  tensor(0.)  tensor(0.)  tensor(0.0257, grad_fn=<UnbindBackward>)\n",
              "1  tensor(0.)  tensor(1.)  tensor(0.9994, grad_fn=<UnbindBackward>)\n",
              "2  tensor(1.)  tensor(0.)  tensor(0.9995, grad_fn=<UnbindBackward>)\n",
              "3  tensor(1.)  tensor(1.)  tensor(0.9998, grad_fn=<UnbindBackward>)"
            ]
          },
          "metadata": {},
          "execution_count": 14
        }
      ]
    },
    {
      "cell_type": "code",
      "metadata": {
        "id": "Qa8HW6_MvPIT"
      },
      "source": [
        ""
      ],
      "execution_count": null,
      "outputs": []
    }
  ]
}